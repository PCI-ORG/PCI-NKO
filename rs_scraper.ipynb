{
 "cells": [
  {
   "cell_type": "code",
   "execution_count": 35,
   "metadata": {},
   "outputs": [],
   "source": [
    "import requests\n",
    "import os\n",
    "import time\n",
    "from datetime import datetime, timedelta\n",
    "from pdf2image import convert_from_path\n",
    "from PIL import Image\n",
    "import pytesseract"
   ]
  },
  {
   "cell_type": "code",
   "execution_count": 36,
   "metadata": {},
   "outputs": [],
   "source": [
    "def download_pdf(url, output_dir, formatted_date):\n",
    "    response = requests.get(url)\n",
    "    if response.status_code == 200:\n",
    "        os.makedirs(output_dir, exist_ok=True)\n",
    "        filename = f'rd_{formatted_date}.pdf'\n",
    "        with open(os.path.join(output_dir, filename), 'wb') as file:\n",
    "            file.write(response.content)\n",
    "        return True\n",
    "    else:\n",
    "        print(f\"Error: Failed to download PDF from {url}\")\n",
    "        return False\n",
    "\n",
    "def get_formatted_date(date):\n",
    "    return date.strftime('%Y-%m-%d')\n",
    "\n",
    "def get_date_range(start_date, end_date):\n",
    "    dates = []\n",
    "    current_date = start_date\n",
    "    while current_date <= end_date:\n",
    "        dates.append(current_date)\n",
    "        current_date += timedelta(days=1)\n",
    "    return dates\n",
    "\n",
    "def scrape_rodong_sinmun(start_date, end_date=None):\n",
    "    output_dir = datetime.now().strftime('%Y-%m-%d')\n",
    "\n",
    "    if end_date:\n",
    "        dates = get_date_range(start_date, end_date)\n",
    "    else:\n",
    "        dates = [start_date]\n",
    "    # Download the PDFs:\n",
    "    download_count = 0\n",
    "    for date in tqdm(dates, desc=\"Downloading PDFs\"):\n",
    "        path_year = date.strftime(\"%Y\")\n",
    "        path_month = date.strftime(\"%m\")\n",
    "        formatted_date = get_formatted_date(date)\n",
    "        url = f'https://kcnawatch.org/wp-content/uploads/sites/5/{path_year}/{path_month}/rodong-{formatted_date}.pdf'\n",
    "        if download_pdf(url, output_dir, formatted_date):\n",
    "            download_count += 1\n",
    "        time.sleep(0.5) \n",
    "\n",
    "    if download_count == 0:\n",
    "      print(\"\\nNo issue has been downloaded.\")\n",
    "    else:\n",
    "      if end_date is not None:\n",
    "          print(f\"\\nDownloaded a total of {download_count} issues from {start_date.strftime('%Y-%m-%d')} to {end_date.strftime('%Y-%m-%d')}.\")\n",
    "      else:\n",
    "          print(f\"\\nDownloaded the issue of {start_date.strftime('%Y-%m-%d')}.\")"
   ]
  },
  {
   "cell_type": "code",
   "execution_count": 37,
   "metadata": {},
   "outputs": [],
   "source": [
    "start_date_str = '01/15/2017'  # replace with your start date\n",
    "end_date_str = '01/20/2017'  # replace with your end date\n",
    "\n",
    "start_date = datetime.strptime(start_date_str, '%m/%d/%Y')\n",
    "end_date = datetime.strptime(end_date_str, '%m/%d/%Y') if end_date_str else None"
   ]
  },
  {
   "cell_type": "code",
   "execution_count": 38,
   "metadata": {},
   "outputs": [
    {
     "name": "stdout",
     "output_type": "stream",
     "text": [
      "Error: Failed to download PDF from https://kcnawatch.org/wp-content/uploads/sites/5/2017/01/wpid-rodong-2017-01-16.pdf\n",
      "Error: Failed to download PDF from https://kcnawatch.org/wp-content/uploads/sites/5/2017/01/wpid-rodong-2017-01-17.pdf\n"
     ]
    }
   ],
   "source": [
    "scrape_rodong_sinmun(start_date, end_date)"
   ]
  }
 ],
 "metadata": {
  "kernelspec": {
   "display_name": "base",
   "language": "python",
   "name": "python3"
  },
  "language_info": {
   "codemirror_mode": {
    "name": "ipython",
    "version": 3
   },
   "file_extension": ".py",
   "mimetype": "text/x-python",
   "name": "python",
   "nbconvert_exporter": "python",
   "pygments_lexer": "ipython3",
   "version": "3.10.9"
  },
  "orig_nbformat": 4
 },
 "nbformat": 4,
 "nbformat_minor": 2
}
