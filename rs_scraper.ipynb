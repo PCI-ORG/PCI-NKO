{
 "cells": [
  {
   "cell_type": "code",
   "execution_count": null,
   "metadata": {},
   "outputs": [],
   "source": [
    "import requests\n",
    "import os\n",
    "import time\n",
    "from tqdm import tqdm\n",
    "from datetime import datetime, timedelta\n",
    "from pdf2image import convert_from_path\n",
    "from PIL import Image\n",
    "import pytesseract"
   ]
  },
  {
   "cell_type": "code",
   "execution_count": null,
   "metadata": {},
   "outputs": [],
   "source": [
    "def download_pdf(list_of_urls, output_dir, formatted_date):\n",
    "    success_status = False\n",
    "    for url in list_of_urls:\n",
    "        response = requests.get(url)\n",
    "        if response.status_code == 200:\n",
    "            os.makedirs(output_dir, exist_ok=True)\n",
    "            filename = f'rd_{formatted_date}.pdf'\n",
    "            with open(os.path.join(output_dir, filename), 'wb') as file:\n",
    "                file.write(response.content)\n",
    "            success_status = True\n",
    "            break\n",
    "    if not success_status:\n",
    "        print(f\"Error: Failed to download PDF from {list_of_urls[0][-14:]}\")\n",
    "    return success_status\n",
    "\n",
    "def get_formatted_date(date):\n",
    "    return date.strftime('%Y-%m-%d')\n",
    "\n",
    "def get_date_range(start_date, end_date):\n",
    "    dates = []\n",
    "    current_date = start_date\n",
    "    while current_date <= end_date:\n",
    "        dates.append(current_date)\n",
    "        current_date += timedelta(days=1)\n",
    "    return dates\n",
    "\n",
    "def scrape_rodong_sinmun(start_date, end_date=None):\n",
    "    output_dir = datetime.now().strftime('%Y-%m-%d')\n",
    "\n",
    "    if end_date:\n",
    "        dates = get_date_range(start_date, end_date)\n",
    "    else:\n",
    "        dates = [start_date]\n",
    "    # Download the PDFs:\n",
    "    download_count = 0\n",
    "    for date in tqdm(dates, desc=\"Downloading PDFs\"):\n",
    "        path_year = date.strftime(\"%Y\")\n",
    "        path_month = date.strftime(\"%m\")\n",
    "        path_day = date.strftime(\"%d\")\n",
    "        formatted_date = get_formatted_date(date)\n",
    "        url_1 = f'https://kcnawatch.org/wp-content/uploads/sites/5/{path_year}/{path_month}/rodong-{formatted_date}.pdf'\n",
    "        url_2 = f'https://kcnawatch.org/wp-content/uploads/sites/5/{path_year}/{path_month}/wpid-rodong-{formatted_date}.pdf'\n",
    "        url_3 = f'https://kcnawatch.org/wp-content/uploads/sites/5/{path_year}/{path_month}/rodong-sinmun-{formatted_date}.pdf'\n",
    "        url_4 = f'https://kcnawatch.org/wp-content/uploads/sites/5/2015/12/rodong-sinmun-{formatted_date}.pdf'\n",
    "        url_5 = f'https://dprkmedia.com/wp-content/themes/KPMSite/pdf.php?media=rodong&pdf-year={path_year}&pdf-month={path_month}&pdf-day={path_day}'\n",
    "        \n",
    "        if download_pdf([url_1, url_2, url_3, url_4, url_5], output_dir, formatted_date):\n",
    "            download_count += 1\n",
    "        time.sleep(0.5) \n",
    "\n",
    "    if download_count == 0:\n",
    "      print(\"\\nNo issue has been downloaded.\")\n",
    "    else:\n",
    "      if end_date is not None:\n",
    "          print(f\"\\nDownloaded a total of {download_count} issues from {start_date.strftime('%Y-%m-%d')} to {end_date.strftime('%Y-%m-%d')}.\")\n",
    "      else:\n",
    "          print(f\"\\nDownloaded the issue of {start_date.strftime('%Y-%m-%d')}.\")"
   ]
  },
  {
   "cell_type": "code",
   "execution_count": null,
   "metadata": {},
   "outputs": [],
   "source": [
    "start_date_str = '09/30/2013'  # replace with your start date\n",
    "end_date_str = '12/23/2018'  # replace with your end date\n",
    "\n",
    "start_date = datetime.strptime(start_date_str, '%m/%d/%Y')\n",
    "end_date = datetime.strptime(end_date_str, '%m/%d/%Y') if end_date_str else None"
   ]
  },
  {
   "cell_type": "code",
   "execution_count": null,
   "metadata": {},
   "outputs": [],
   "source": [
    "scrape_rodong_sinmun(start_date, end_date)"
   ]
  }
 ],
 "metadata": {
  "kernelspec": {
   "display_name": "Python 3 (ipykernel)",
   "language": "python",
   "name": "python3"
  },
  "language_info": {
   "codemirror_mode": {
    "name": "ipython",
    "version": 3
   },
   "file_extension": ".py",
   "mimetype": "text/x-python",
   "name": "python",
   "nbconvert_exporter": "python",
   "pygments_lexer": "ipython3",
   "version": "3.11.4"
  }
 },
 "nbformat": 4,
 "nbformat_minor": 4
}
